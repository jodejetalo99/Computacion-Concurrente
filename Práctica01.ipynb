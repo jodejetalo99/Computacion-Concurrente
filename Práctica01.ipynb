{
 "cells": [
  {
   "cell_type": "markdown",
   "metadata": {},
   "source": [
    "# Práctica 01 del 05 de Septiembre de 2019\n",
    "# Computación Concurrente\n",
    "# José de Jesús Tapia López"
   ]
  },
  {
   "cell_type": "markdown",
   "metadata": {},
   "source": [
    "1) Crea un proceso que construya 5 procesos hijos. \"Capturar\" los id's de los procesos hijos y crea una tabla\n"
   ]
  },
  {
   "cell_type": "code",
   "execution_count": 1,
   "metadata": {},
   "outputs": [
    {
     "name": "stdout",
     "output_type": "stream",
     "text": [
      "Nombre\t\t Pid\t PID Padre\n",
      "Proceso 1: \t 5815 \t 5791\n",
      "Proceso 2: \t 5818 \t 5791\n",
      "Proceso 3: \t 5822 \t 5791\n",
      "Proceso 4: \t 5825 \t 5791\n",
      "Proceso 5: \t 5830 \t 5791\n"
     ]
    }
   ],
   "source": [
    "import multiprocessing #importamos multiprocessing\n",
    "import os #importamos os\n",
    "import time\n",
    "#Hacemos uso de la función Process() para crear un proceso\n",
    "\n",
    "#Definimos una función hijo que imprimirá el valor de su padre, su PID y su nombre\n",
    "def FuncionHijo():\n",
    "    \n",
    "    # Vamos a imprimir los valores del hijo\n",
    "    # multiprocessing.current_process().name -->> Imprimirá el nombre del proceso actual\n",
    "    # multiprocessing.current_process().pid -->> Imprimirá el PID del proceso actual\n",
    "    # os.getppid() -->> Imprimirá el padre del proceso actual\n",
    "    # '\\t' -> simplemente es un tabulador, para dar espacio entre los datos  d1_____d2\n",
    "    print(multiprocessing.current_process().name,'\\t',multiprocessing.current_process().pid,'\\t', os.getppid())\n",
    "    \n",
    "    time.sleep(5) #Le damos 5 segundos de pausa\n",
    "\n",
    "#Definimos la función MAIN, que será nuestra función principal\n",
    "def main():\n",
    "    \n",
    "    # Imprimimos las cabeceras de lo que sera nuestra 'tabla'\n",
    "    print('Nombre\\t\\t','Pid\\t','PID Padre')\n",
    "    \n",
    "    #Creamos un ciclo que realizará la creación de 5 proceso hijos\n",
    "    for i in range(5):\n",
    "        \n",
    "        # Creamos una cadena que mandará el dato del proceso y el número, deacuerdo al contador\n",
    "        # Le sumamos 1 para no tener el proceso 0\n",
    "        # str (args) convierte args a cadena\n",
    "        nombre = 'Proceso '+str(i+1)+\":\"\n",
    "        \n",
    "        #Realizamos la creación de un proceso hijo que hace las tareas de FUNCION HIJO con nombre NOMBRE\n",
    "        proceso = multiprocessing.Process(target=FuncionHijo, name=(nombre)) \n",
    "        \n",
    "        #Inicializamos el proceso\n",
    "        proceso.start()\n",
    "        \n",
    "        #Le damos prioridad al proceso\n",
    "        proceso.join()\n",
    "        \n",
    "#Hacemos el llamado a la función principal MAIN  \n",
    "main()"
   ]
  },
  {
   "cell_type": "markdown",
   "metadata": {},
   "source": [
    "2) Crea un procesa que cree dos procesos hijos:\n",
    "* A) Un proceso hijo crea la gráfica de $f(x) = x^2 + x - 2$\n",
    "* B) El otro proceso hijo crea la gráfica $g(x) = x^3 -2x^2+x+1$\n",
    "* C) Calcula tiempos versión secuencial, versión concurrente\n"
   ]
  },
  {
   "cell_type": "code",
   "execution_count": 2,
   "metadata": {},
   "outputs": [],
   "source": [
    "from multiprocessing import Process\n",
    "from multiprocessing import Pool\n",
    "from multiprocessing import current_process\n",
    "\n",
    "import time\n",
    "\n",
    "import numpy as np\n",
    "import matplotlib.pyplot as plt\n",
    "\n",
    "\n",
    "x = np.linspace(-10,10,100)\n",
    "\n",
    "def hijo1(x):\n",
    "    y = x**3 - 2*x**2 + x + 1\n",
    "    time.sleep(2)\n",
    "    plt.plot(x,y)\n",
    "\n",
    "def hijo2(x):\n",
    "    y = x**2 + x - 2\n",
    "    time.sleep(2)\n",
    "    plt.plot(x,y)"
   ]
  },
  {
   "cell_type": "markdown",
   "metadata": {},
   "source": [
    "## Versión secuencial"
   ]
  },
  {
   "cell_type": "code",
   "execution_count": 3,
   "metadata": {},
   "outputs": [
    {
     "name": "stdout",
     "output_type": "stream",
     "text": [
      "Tiempo de ejecución 4.352611303329468\n"
     ]
    },
    {
     "data": {
      "image/png": "[encoded data removed]",
      "text/plain": [
       "<Figure size 432x288 with 1 Axes>"
      ]
     },
     "metadata": {
      "needs_background": "light"
     },
     "output_type": "display_data"
    }
   ],
   "source": [
    "t0 = time.time()\n",
    "\n",
    "fig1 = hijo1(x)\n",
    "fig2 = hijo2(x)\n",
    "\n",
    "tf = time.time()\n",
    "\n",
    "print(f\"Tiempo de ejecución {tf-t0}\")"
   ]
  },
  {
   "cell_type": "markdown",
   "metadata": {},
   "source": [
    "## Versión concurrente"
   ]
  },
  {
   "cell_type": "code",
   "execution_count": null,
   "metadata": {},
   "outputs": [],
   "source": [
    "t0 = time.time()\n",
    "\n",
    "proceso1 = Process(target=hijo1, args=(x,))\n",
    "proceso2 = Process(target=hijo2, args=(x,))\n",
    "\n",
    "proceso1.start()\n",
    "proceso2.start()\n",
    "\n",
    "proceso1.join()\n",
    "proceso2.join()\n",
    "\n",
    "tf = time.time()\n",
    "print(f\"Tiempo de ejecución {tf-t0}\")"
   ]
  },
  {
   "cell_type": "code",
   "execution_count": null,
   "metadata": {},
   "outputs": [],
   "source": [
    "3)"
   ]
  },
  {
   "cell_type": "code",
   "execution_count": 4,
   "metadata": {},
   "outputs": [
    {
     "name": "stdout",
     "output_type": "stream",
     "text": [
      "tiempo de ejecucion de a = 0.1372084617614746\n",
      "tiempo de ejecucion de b = 0.12752318382263184\n",
      "tiempo de ejecucion de secuencial = 0.18059897422790527\n"
     ]
    }
   ],
   "source": [
    "import multiprocessing as mp\n",
    "import time \n",
    "\n",
    "def disminuir(a):\n",
    "    while (a>0):\n",
    "        a=a-1\n",
    "def secuencial(a):\n",
    "    t=time.time()\n",
    "    while (a>0):\n",
    "        a=a-1\n",
    "    return time.time()-t\n",
    "\n",
    "t1=time.time()\n",
    "p1=mp.Process(target=disminuir, args=((10**6)/2,))\n",
    "p1.start()\n",
    "p1.join()\n",
    "\n",
    "print(\"tiempo de ejecucion de a =\", time.time()-t1)\n",
    "\n",
    "\n",
    "t2=time.time()\n",
    "p2=mp.Process(target=disminuir, args=((10**6)/2,))\n",
    "p2.start()\n",
    "p2.join()\n",
    "\n",
    "print(\"tiempo de ejecucion de b =\", time.time()-t2)\n",
    "\n",
    "print(\"tiempo de ejecucion de secuencial =\", secuencial(10**6))\n",
    "    "
   ]
  },
  {
   "cell_type": "code",
   "execution_count": 5,
   "metadata": {},
   "outputs": [
    {
     "name": "stdout",
     "output_type": "stream",
     "text": [
      "tiempo de ejecucion de a y b =  0.1883251667022705\n",
      "tiempo de ejecucion de secuencial = 0.1551513671875\n"
     ]
    }
   ],
   "source": [
    "import multiprocessing as mp\n",
    "import time \n",
    "\n",
    "def disminuir(a):\n",
    "    while (a>0):\n",
    "        a=a-1\n",
    "        \n",
    "def secuencial(a):\n",
    "    t=time.time()\n",
    "    while (a>0):\n",
    "        a=a-1\n",
    "    return time.time()-t\n",
    "\n",
    "t=time.time()\n",
    "\n",
    "p1=mp.Process(target=disminuir, args=((10**6)/2,))\n",
    "p2=mp.Process(target=disminuir, args=((10**6)/2,))\n",
    "\n",
    "\n",
    "p1.start()\n",
    "p2.start()\n",
    "\n",
    "p1.join()\n",
    "p2.join()\n",
    "\n",
    "\n",
    "print(\"tiempo de ejecucion de a y b = \", time.time()-t)\n",
    "\n",
    "print(\"tiempo de ejecucion de secuencial =\", secuencial(10**6))"
   ]
  },
  {
   "cell_type": "code",
   "execution_count": null,
   "metadata": {},
   "outputs": [],
   "source": []
  }
 ],
 "metadata": {
  "kernelspec": {
   "display_name": "Python 3",
   "language": "python",
   "name": "python3"
  },
  "language_info": {
   "codemirror_mode": {
    "name": "ipython",
    "version": 3
   },
   "file_extension": ".py",
   "mimetype": "text/x-python",
   "name": "python",
   "nbconvert_exporter": "python",
   "pygments_lexer": "ipython3",
   "version": "3.7.3"
  }
 },
 "nbformat": 4,
 "nbformat_minor": 2
}
