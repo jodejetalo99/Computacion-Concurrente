{
 "cells": [
  {
   "cell_type": "code",
   "execution_count": 1,
   "metadata": {},
   "outputs": [
    {
     "name": "stdout",
     "output_type": "stream",
     "text": [
      "AAAAAA\n",
      "BBBB\n",
      "CCCCCCC\n"
     ]
    }
   ],
   "source": [
    "# Programa 1\n",
    "\n",
    "import multiprocessing as mp\n",
    "\n",
    "class programa1(mp.Process):\n",
    "    \n",
    "    def __init__(self,s,n):\n",
    "        super(programa1, self).__init__()\n",
    "        self.n=n\n",
    "        self.s=s\n",
    "        \n",
    "    def run(self):\n",
    "        print(self.s*self.n)\n",
    "\n",
    "\n",
    "if __name__ == '__main__':\n",
    "    hijo1 = programa1('A',6)\n",
    "    hijo2 = programa1('B',4)\n",
    "    hijo3 = programa1('C',7)\n",
    "    \n",
    "    hijo1.start()\n",
    "    hijo2.start()\n",
    "    hijo3.start()\n",
    "\n",
    "    hijo1.join()\n",
    "    hijo2.join()\n",
    "    hijo3.join()\n",
    "\n",
    "    \n",
    " "
   ]
  },
  {
   "cell_type": "code",
   "execution_count": 2,
   "metadata": {},
   "outputs": [
    {
     "name": "stdout",
     "output_type": "stream",
     "text": [
      "AA\n",
      "BBBB\n",
      "CCCCCC\n"
     ]
    }
   ],
   "source": [
    "# Programa 2\n",
    "import multiprocessing as mp\n",
    "\n",
    "\n",
    "def programa2(s,n,turno):\n",
    "    \n",
    "    while turno_actual.value != turno:\n",
    "        pass\n",
    "    \n",
    "    print(s*n)\n",
    "    \n",
    "    turno_actual.value += 1\n",
    "    \n",
    "# Vemos quién está en la región crítica  \n",
    "turno_actual = mp.Value('i',1)\n",
    "    \n",
    "if __name__ == '__main__':\n",
    "    \n",
    "    p1 = mp.Process(target = programa2, args=('A',2,1,))\n",
    "    p2 = mp.Process(target = programa2, args=('B',4,2,))    \n",
    "    p3 = mp.Process(target = programa2, args=('C',6,3,))    \n",
    "    \n",
    "    p1.start()\n",
    "    p2.start()\n",
    "    p3.start()\n",
    "    "
   ]
  },
  {
   "cell_type": "code",
   "execution_count": null,
   "metadata": {},
   "outputs": [],
   "source": []
  }
 ],
 "metadata": {
  "kernelspec": {
   "display_name": "Python 3",
   "language": "python",
   "name": "python3"
  },
  "language_info": {
   "codemirror_mode": {
    "name": "ipython",
    "version": 3
   },
   "file_extension": ".py",
   "mimetype": "text/x-python",
   "name": "python",
   "nbconvert_exporter": "python",
   "pygments_lexer": "ipython3",
   "version": "3.7.3"
  }
 },
 "nbformat": 4,
 "nbformat_minor": 2
}
