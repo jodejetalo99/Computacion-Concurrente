{
 "cells": [
  {
   "cell_type": "markdown",
   "metadata": {},
   "source": [
    "# Práctica 02 del 12 de Septiembre de 2019\n",
    "# Computación Concurrente\n",
    "# José de Jesús Tapia López"
   ]
  },
  {
   "cell_type": "markdown",
   "metadata": {},
   "source": [
    "## Escribe el algoritmo concurrente que resuelva las siguiente tareas:"
   ]
  },
  {
   "cell_type": "markdown",
   "metadata": {},
   "source": [
    "1)\n",
    "\n",
    "Padre crea dos hijos:\n",
    "\n",
    "* Hijo1: Crea un archvo de texto(10 líneas)\n",
    "* Hijo2: Lee el archivo y crea una copia."
   ]
  },
  {
   "cell_type": "code",
   "execution_count": 1,
   "metadata": {},
   "outputs": [
    {
     "name": "stdout",
     "output_type": "stream",
     "text": [
      "Proceso padre:  4296\n",
      "Proceso hijo 1:  4313\n",
      "Proceso hijo 2:  4316\n",
      "    Header\n",
      "0    Fila1\n",
      "1    Fila2\n",
      "2    Fila3\n",
      "3    Fila4\n",
      "4    Fila5\n",
      "5    Fila6\n",
      "6    Fila7\n",
      "7    Fila8\n",
      "8    Fila9\n",
      "9   Fila10\n",
      "10   Fila0\n",
      "11   Fila1\n",
      "12   Fila2\n",
      "13   Fila3\n",
      "14   Fila4\n",
      "15   Fila5\n",
      "16   Fila6\n",
      "17   Fila7\n",
      "18   Fila8\n",
      "19   Fila9\n",
      "20  Fila10\n",
      "21   Fila0\n",
      "22   Fila1\n",
      "23   Fila2\n",
      "24   Fila3\n",
      "25   Fila4\n",
      "26   Fila5\n",
      "27   Fila6\n",
      "28   Fila7\n",
      "29   Fila8\n",
      "30   Fila9\n",
      "31  Fila10\n"
     ]
    }
   ],
   "source": [
    "import os\n",
    "import multiprocessing as mp\n",
    "import pandas as pd\n",
    "\n",
    "def escribir():\n",
    "    print('Proceso hijo 1: ', os.getpid())\n",
    "    for i in range(10 + 1):\n",
    "        if not os.path.exists('Texto.txt'):\n",
    "            with open(\"Texto.txt\", \"w+\") as Text:\n",
    "                Text.write(\"Header\\n\")\n",
    "        else:\n",
    "            with open(\"Texto.txt\", \"a+\") as Text:\n",
    "                Text.write(f\"Fila{i}\\n\")\n",
    "            \n",
    "def leer():\n",
    "    print('Proceso hijo 2: ', os.getpid())\n",
    "    archivo = pd.read_csv('Texto.txt')\n",
    "    print(archivo)\n",
    "    \n",
    "    \n",
    "def crear_proceso(cuantos):\n",
    "    print(\"Proceso padre: \", os.getppid())\n",
    "    p1 = mp.Process(target = escribir)\n",
    "    p2 = mp.Process(target = leer)\n",
    "    p1.start()\n",
    "    p2.start()\n",
    "        \n",
    "p = mp.Process(target = crear_proceso, args = (5,))\n",
    "p.start()"
   ]
  },
  {
   "cell_type": "markdown",
   "metadata": {},
   "source": [
    "2)\n",
    "\n",
    "Crea dos procesos\n",
    "\n",
    "* P1: hace la suma x = x + 1\n",
    "* P2: hace la suma y = x + 1\n",
    "    - Prueba con x valor.\n",
    "    - Prueba con x lista\n",
    "    - Prueba con x rango"
   ]
  },
  {
   "cell_type": "code",
   "execution_count": 4,
   "metadata": {},
   "outputs": [
    {
     "name": "stdout",
     "output_type": "stream",
     "text": [
      "11\n",
      "11\n"
     ]
    }
   ],
   "source": [
    "import os\n",
    "import multiprocessing as mp\n",
    "import numpy as np\n",
    "\n",
    "\n",
    "def suma1_x(x):\n",
    "    x = x+1\n",
    "    print(x)\n",
    "    \n",
    "    \n",
    "def suma1_y(x):\n",
    "    y = x+1\n",
    "    print(y)\n",
    "    \n",
    "\n",
    "\n",
    "\n",
    "if __name__ == '__main__':\n",
    "    p1 = mp.Process(target = suma1_x, args = (10,))\n",
    "    p2 = mp.Process(target = suma1_y, args = (10,))\n",
    "    p1.start()\n",
    "    p2.start()\n",
    "    p1.join()\n",
    "    p2.join()"
   ]
  },
  {
   "cell_type": "code",
   "execution_count": 5,
   "metadata": {},
   "outputs": [
    {
     "name": "stdout",
     "output_type": "stream",
     "text": [
      "24\n",
      "Valor de y:  [25, 6, 7, 8, 4, 1]\n",
      "6\n",
      "7\n",
      "8\n",
      "4\n",
      "1\n"
     ]
    }
   ],
   "source": [
    "def suma2_x(x):\n",
    "    lock.acquire()\n",
    "    for i in range(len(x)):\n",
    "        x[i] = x[i] + 1\n",
    "        print(x[i])\n",
    "    lock.release()\n",
    "    \n",
    "def suma2_y(x):\n",
    "    y = [] \n",
    "    for i in range(len(x)):\n",
    "        y.append(x[i] + 1)\n",
    "    print('Valor de y: ', y) \n",
    "\n",
    "arreglo = np.asarray([23, 5, 6, 7, 3, 0])\n",
    "#def crear_proceso(a):\n",
    "if __name__ == '__main__':\n",
    "    x = mp.Array('i', arreglo)\n",
    "    lock = mp.Lock()\n",
    "    p1 = mp.Process(target = suma2_x, args = (x,))\n",
    "    p2 = mp.Process(target = suma2_y, args = (x,))\n",
    "    p1.start()\n",
    "    p2.start()\n",
    "    p1.join()\n",
    "    p2.join()\n",
    "\n",
    "#p = mp.Process(target = crear_proceso, args = (2,))\n",
    "#p.start"
   ]
  },
  {
   "cell_type": "code",
   "execution_count": 6,
   "metadata": {},
   "outputs": [
    {
     "name": "stdout",
     "output_type": "stream",
     "text": [
      "1\n",
      "2\n",
      "3\n",
      "4\n",
      "Valor de y:  [2, 3, 4, 5, 5, 6, 7, 8, 9, 10]\n",
      "5\n",
      "6\n",
      "7\n",
      "8\n",
      "9\n",
      "10\n"
     ]
    }
   ],
   "source": [
    "def suma3_x(x):\n",
    "    lock.acquire()\n",
    "    for i in range(len(x)):\n",
    "        x[i] = x[i] + 1\n",
    "        print(x[i])\n",
    "    lock.release()\n",
    "    \n",
    "def suma3_y(x):\n",
    "    y = [] \n",
    "    for i in range(len(x)):\n",
    "        y.append(x[i] + 1)\n",
    "    print('Valor de y: ', y) \n",
    "\n",
    "x = range(10)\n",
    "\n",
    "if __name__ == '__main__':\n",
    "    x = mp.Array('i', x)\n",
    "    lock = mp.Lock()\n",
    "    p1 = mp.Process(target = suma3_x, args = (x,))\n",
    "    p2 = mp.Process(target = suma3_y, args = (x,))\n",
    "    p1.start()\n",
    "    p2.start()\n",
    "    p1.join()\n",
    "    p2.join()\n"
   ]
  },
  {
   "cell_type": "markdown",
   "metadata": {},
   "source": [
    "3)\n",
    "\n",
    "Simula un proceso de supermercado. Se tienen 10 clientes con 10 productos cada uno.\n",
    "\n",
    "* A) Crea un proceso (cajero) que atienda (suma total de la compra) los 10 clientes. Calcula el tiempo.\n",
    "* B) Crea dos procesos (2 cajeros) que atiendan (suma tootal de la compra) 5 clientes cada uno. Calcula el tiempo."
   ]
  },
  {
   "cell_type": "code",
   "execution_count": 10,
   "metadata": {},
   "outputs": [
    {
     "name": "stdout",
     "output_type": "stream",
     "text": [
      "236\n",
      "280\n",
      "491\n",
      "347\n",
      "448\n",
      "251\n",
      "295\n",
      "495\n",
      "430\n",
      "373\n",
      "Tiempo de ejecución:0.13393712043762207\n"
     ]
    }
   ],
   "source": [
    "# Realizamos el inciso A\n",
    "\n",
    "from multiprocessing import Process, Queue\n",
    "import time\n",
    "\n",
    "\n",
    "\n",
    "def cajero(q):\n",
    "  for i in range(10):\n",
    "    a = q.get()\n",
    "    sum = 0\n",
    "  \n",
    "    for i in range(len(a)):\n",
    "      sum += a[i]\n",
    "    print(sum)\n",
    "      \n",
    "\n",
    "  \n",
    "\n",
    "  \n",
    "if __name__ == '__main__':\n",
    "  t = time.time()\n",
    "  q = Queue()\n",
    "  \n",
    "  q.put([5,2,55,4,3,6,87,23,34,17])\n",
    "  q.put([4,6,7,23,80,56,66,7,2,29])\n",
    "  q.put([44,33,77,2,4,5,90,98,67,71])\n",
    "  q.put([1,9,34,50,23,56,1,5,78,90])\n",
    "  q.put([3,8,56,43,28,81,99,44,67,19])\n",
    "  q.put([3,35,82,33,45,1,7,8,4,33])\n",
    "  q.put([2,4,6,29,4,4,66,92,30,58])\n",
    "  q.put([71,85,45,24,13,23,62,76,5,91])\n",
    "  q.put([5,22,88,58,44,26,27,33,59,68])\n",
    "  q.put([6,5,7,24,83,54,62,74,27,31])\n",
    "    \n",
    "  p = Process(target=cajero, args=(q,))\n",
    "  p.start()\n",
    "  p.join()\n",
    "  \n",
    "  print(\"Tiempo de ejecución:\" + str(time.time() - t))"
   ]
  },
  {
   "cell_type": "code",
   "execution_count": 9,
   "metadata": {},
   "outputs": [
    {
     "name": "stdout",
     "output_type": "stream",
     "text": [
      "236\n",
      "280\n",
      "491\n",
      "347\n",
      "448\n",
      "251\n",
      "295\n",
      "495\n",
      "430\n",
      "373\n",
      "Tiempo de ejecución:0.18702244758605957\n"
     ]
    }
   ],
   "source": [
    "from multiprocessing import Process, Queue\n",
    "import time\n",
    "\n",
    "\n",
    "\n",
    "def cajero1(q):\n",
    "  for i in range(5):\n",
    "    a = q.get()\n",
    "    sum = 0\n",
    "  \n",
    "    for i in range(len(a)):\n",
    "      sum += a[i]\n",
    "    print(sum)\n",
    "   \n",
    "def cajero2(q):\n",
    "  for i in range(5):\n",
    "    a = q.get()\n",
    "    sum = 0\n",
    "  \n",
    "    for i in range(len(a)):\n",
    "      sum += a[i]\n",
    "    print(sum)    \n",
    "\n",
    "  \n",
    "\n",
    "  \n",
    "if __name__ == '__main__':\n",
    "  t = time.time()\n",
    "  q = Queue()\n",
    "  q.put([5,2,55,4,3,6,87,23,34,17])\n",
    "  q.put([4,6,7,23,80,56,66,7,2,29])\n",
    "  q.put([44,33,77,2,4,5,90,98,67,71])\n",
    "  q.put([1,9,34,50,23,56,1,5,78,90])\n",
    "  q.put([3,8,56,43,28,81,99,44,67,19])\n",
    "  q.put([3,35,82,33,45,1,7,8,4,33])\n",
    "  q.put([2,4,6,29,4,4,66,92,30,58])\n",
    "  q.put([71,85,45,24,13,23,62,76,5,91])\n",
    "  q.put([5,22,88,58,44,26,27,33,59,68])\n",
    "  q.put([6,5,7,24,83,54,62,74,27,31])\n",
    "  # Creamos el proceso 1\n",
    "  p1= Process(target=cajero1, args=(q,))\n",
    "  p1.start()\n",
    "  # q.put(5)\n",
    "  # print(q.get())\n",
    "  p1.join()\n",
    "  # Creamos el proceso 2\n",
    "  p2 = Process(target=cajero2, args=(q,))\n",
    "  p2.start()\n",
    "  # q.put(5)\n",
    "  # print(q.get())\n",
    "  p2.join()\n",
    "  \n",
    "  print(\"Tiempo de ejecución:\" + str(time.time() - t))\n",
    "  "
   ]
  },
  {
   "cell_type": "code",
   "execution_count": null,
   "metadata": {},
   "outputs": [],
   "source": []
  }
 ],
 "metadata": {
  "kernelspec": {
   "display_name": "Python 3",
   "language": "python",
   "name": "python3"
  },
  "language_info": {
   "codemirror_mode": {
    "name": "ipython",
    "version": 3
   },
   "file_extension": ".py",
   "mimetype": "text/x-python",
   "name": "python",
   "nbconvert_exporter": "python",
   "pygments_lexer": "ipython3",
   "version": "3.7.3"
  }
 },
 "nbformat": 4,
 "nbformat_minor": 2
}
