from multiprocessing import Queue, Process

def productor(q, BUFFER_SIZE):
  itemCount = 0
  item = 1
  while true:
    if productor_wakeup:
        item = q.put([10+item])
	      if itemCount == BUFFER_SIZE:
          sleep('productor')
	      itemCount += 1
	      item += 1
	      if itemCount == 1:
		      wakeup(consumidor)

def consumidor(q):
  if consumidor_wakeup:
     while true:
        if itemCount == 0:
          sleep('consumidor')
        q.get()
        itemCount -= 1
      
        if itemCount == BUFFER_SIZE-1:
          wakeup('productor')

      
def wakeup(persona):
  global productor_wakeup
  global consumidor_wakeup
  if persona == 'productor':
    productor_wakeup = True
  elif persona == 'consumidor':
    consumidor_wakeup = True
  else:
    pass

def sleep(persona):
  global productor_wakeup
  global consumidor_wakeup
  if persona == 'productor':
    productor_wakeup = False
  elif persona == 'consumidor':
    consumidor_wakeup = False
  else:
    pass





if __name__ == '__main__':
# 1 para el productor, 0 para el consumidor
  productor_wakeup = True
  consumidor_wakeup = True


  BUFFER_SIZE = 5
  itemCount = 0
  q = Queue()
  q.put([1,2,3,4,5,6,7,8,9,10])
  P = Process(target = productor, args=(q,BUFFER_SIZE))
  C = Process(target = consumidor, args=(q,BUFFER_SIZE))
  
  P.start()
  C.start()
