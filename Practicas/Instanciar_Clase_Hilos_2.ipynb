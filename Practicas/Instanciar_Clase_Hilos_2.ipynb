{
 "cells": [
  {
   "cell_type": "code",
   "execution_count": 75,
   "metadata": {},
   "outputs": [
    {
     "name": "stdout",
     "output_type": "stream",
     "text": [
      "Soy el hilo: 0\n",
      "Soy el hilo: 3\n",
      "Soy el hilo: 2\n",
      "Soy el hilo: 4\n",
      "Soy el hilo: 1\n"
     ]
    }
   ],
   "source": [
    "import threading \n",
    "import time\n",
    "\n",
    "class MyThread(threading.Thread):\n",
    "    def __init__(self, number):\n",
    "        super(MyThread, self).__init__()\n",
    "        self.number = number\n",
    "    def run(self):\n",
    "        time.sleep(0.1)\n",
    "        print(\"Soy el hilo: \" + str(self.number))\n",
    "thread_list = []\n",
    "for i in range(5):\n",
    "    thread = MyThread(i)\n",
    "    thread_list.append(thread)\n",
    "    thread.start()"
   ]
  },
  {
   "cell_type": "code",
   "execution_count": 73,
   "metadata": {},
   "outputs": [
    {
     "name": "stdout",
     "output_type": "stream",
     "text": [
      "Hago la tarea: 1\n",
      "Hago la tarea: 4\n",
      "Hago la tarea: 2\n",
      "Hago la tarea: 0\n",
      "Hago la tarea: 3\n"
     ]
    }
   ],
   "source": [
    "# Porgrama en la que cada hilo 'realiza' una tarea diferente\n",
    "class MyThread2(threading.Thread):\n",
    "    def __init__(self, number):\n",
    "        super().__init__()\n",
    "        self.number = number\n",
    "    def run(self):\n",
    "        if self.number == 0:\n",
    "            time.sleep(0.1)\n",
    "            print(\"Hago la tarea: \" + str(self.number))\n",
    "        if self.number == 1:\n",
    "            time.sleep(0.1)\n",
    "            print(\"Hago la tarea: \" + str(self.number))\n",
    "        if self.number == 2:\n",
    "            time.sleep(0.1)\n",
    "            print(\"Hago la tarea: \" + str(self.number))\n",
    "        if self.number == 3:\n",
    "            time.sleep(0.1)\n",
    "            print(\"Hago la tarea: \" + str(self.number))\n",
    "        if self.number == 4:\n",
    "            time.sleep(0.1)\n",
    "            print(\"Hago la tarea: \" + str(self.number))\n",
    "            \n",
    "thread_list = []\n",
    "for i in range(5):\n",
    "    thread = MyThread2(i)\n",
    "    thread_list.append(thread)\n",
    "    thread.start()           "
   ]
  },
  {
   "cell_type": "code",
   "execution_count": 72,
   "metadata": {},
   "outputs": [
    {
     "name": "stdout",
     "output_type": "stream",
     "text": [
      "Hago la tarea: 0\n",
      "Hago la tarea: 1\n",
      "Hago la tarea: 2\n",
      "Hago la tarea: 3\n",
      "Hago la tarea: 4\n"
     ]
    }
   ],
   "source": [
    "# Porgrama en la que cada hilo 'realiza' una tarea diferente\n",
    "# y las otras tareas esperan a que se haga la tarea anterior\n",
    "# a la actual\n",
    "\n",
    "# Realizamos bloqueos para asegurar que las 'tareas se realicen en orden'\n",
    "class MyThread3(threading.Thread):\n",
    "    def __init__(self, number):\n",
    "        super().__init__()\n",
    "        self.number = number\n",
    "    def run(self):\n",
    "        if self.number == 0:\n",
    "            lock.acquire()\n",
    "            time.sleep(0.1)\n",
    "            print(\"Hago la tarea: \" + str(self.number))\n",
    "            lock.release()\n",
    "        if self.number == 1:\n",
    "            lock.acquire()\n",
    "            time.sleep(0.1)\n",
    "            print(\"Hago la tarea: \" + str(self.number))\n",
    "            lock.release()\n",
    "        if self.number == 2:\n",
    "            lock.acquire()\n",
    "            time.sleep(0.1)\n",
    "            print(\"Hago la tarea: \" + str(self.number))\n",
    "            lock.release()\n",
    "        if self.number == 3:\n",
    "            lock.acquire()\n",
    "            time.sleep(0.1)\n",
    "            print(\"Hago la tarea: \" + str(self.number))\n",
    "            lock.release()\n",
    "        if self.number == 4:\n",
    "            lock.acquire()\n",
    "            time.sleep(0.1)\n",
    "            print(\"Hago la tarea: \" + str(self.number))\n",
    "            lock.release()\n",
    "\n",
    "lock = threading.Lock() \n",
    "thread_list = []\n",
    "for i in range(5):\n",
    "    thread = MyThread3(i)\n",
    "    thread_list.append(thread)\n",
    "    thread.start()  "
   ]
  },
  {
   "cell_type": "code",
   "execution_count": null,
   "metadata": {},
   "outputs": [],
   "source": []
  }
 ],
 "metadata": {
  "kernelspec": {
   "display_name": "Python 3",
   "language": "python",
   "name": "python3"
  },
  "language_info": {
   "codemirror_mode": {
    "name": "ipython",
    "version": 3
   },
   "file_extension": ".py",
   "mimetype": "text/x-python",
   "name": "python",
   "nbconvert_exporter": "python",
   "pygments_lexer": "ipython3",
   "version": "3.7.3"
  }
 },
 "nbformat": 4,
 "nbformat_minor": 2
}
