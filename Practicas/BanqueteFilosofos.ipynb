# Solución 1

from multiprocessing import Process, Array, Value
import time

turno_actual = Value('i',0)

def filosofo(tenedores,indice,turno_actual):
  print(f"Ya llegó el filósofo {indice}")
  n = len(tenedores)
  izq = tenedores[indice]
  der = tenedores[(indice+1)%n]
    
  while turno_actual.value != indice or izq == False or der == False:
     # Empecemos con la sección crítica
     pass
  izq = False
  der = False
  print(f"Comiendo el filósofo {indice} está...")
  time.sleep(5)
  print("Jummy Jummy")

  izq = True
  der = True
  print(f"'Que rico estuvo' dice  el filosofo {indice}")

  turno_actual.value = (turno_actual.value + 1)%n

def main():
  # Creamos los recursos compartidos tenedor y los turnos

  tenedores = Array('b',[True,True,True,True,True])
  n = len(tenedores)
  print(tenedores)
Computaci-n-Concurrente
  
  F1 = Process(target = filosofo, args=(tenedores,0,turno_actual))
  F2 = Process(target = filosofo, args=(tenedores,1,turno_actual))
  F3 = Process(target = filosofo, args=(tenedores,2,turno_actual))
  F4 = Process(target = filosofo, args=(tenedores,3,turno_actual))
  F5 = Process(target = filosofo, args=(tenedores,4,turno_actual))
  
  F1.start()
  F3.start()
  F2.start()from multiprocessing import Process, Value
import time



def filosofo(tenedores, indice):
  print(f"Ya llegó el filósofo {indice}")
  
  while tenedores.value < 2:
     # Empecemos con la sección crítica
     pass
  tenedores.value -= 2
  print(f"Comiendo el filósofo {indice} está...")
  time.sleep(5)
  print("Jummy Jummy")

  print(f"'Que rico estuvo' dice  el filosofo {indice}")
  tenedores.value += 2
  
def main():
  tenedores = Value('i', 5) 
  F1 = Process(target = filosofo, args=(tenedores,0))
  F2 = Process(target = filosofo, args=(tenedores,1))
  F3 = Process(target = filosofo, args=(tenedores,2))
  F4 = Process(target = filosofo, args=(tenedores,3))
  F5 = Process(target = filosofo, args=(tenedores,4))
  
  F1.start()
  F3.start()
  F2.start()
  F4.start()
  F5.start()

main()


  F4.start()
  F5.start()
  
main()

# Solución 2

from multiprocessing import Process, Value
import time



def filosofo(tenedores, indice):
  print(f"Ya llegó el filósofo {indice}")
  
  while tenedores.value < 2:
     # Empecemos con la sección crítica
     pass
  tenedores.value -= 2
  print(f"Comiendo el filósofo {indice} está...")
  time.sleep(5)
  print("Jummy Jummy")

  print(f"'Que rico estuvo' dice  el filosofo {indice}")
  tenedores.value += 2
  
def main():
  tenedores = Value('i', 5) 
  F1 = Process(target = filosofo, args=(tenedores,0))
  F2 = Process(target = filosofo, args=(tenedores,1))
  F3 = Process(target = filosofo, args=(tenedores,2))
  F4 = Process(target = filosofo, args=(tenedores,3))
  F5 = Process(target = filosofo, args=(tenedores,4))
  
  F1.start()
  F3.start()
  F2.start()
  F4.start()
  F5.start()

main()


